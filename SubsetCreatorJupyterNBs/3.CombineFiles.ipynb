{
 "cells": [
  {
   "cell_type": "markdown",
   "metadata": {},
   "source": [
    "# combines multiple gzip files to one"
   ]
  },
  {
   "cell_type": "code",
   "execution_count": 1,
   "metadata": {},
   "outputs": [],
   "source": [
    "import os \n",
    "import shutil \n",
    "import pandas as pd\n",
    "from multiprocessing import Pool, Process, Manager\n",
    "from tqdm import tqdm\n",
    "from os import listdir\n",
    "from os.path import isfile, join\n",
    "\n",
    "\n",
    "\n",
    "input_path = \"/work-ceph/aprimpel/WDC_Extraction_2020/7_c_schema_json_full_no_enc_issues/\"\n",
    "combined_path = \"/work-ceph/aprimpel/WDC_Extraction_2020/7_c_schema_json_full_no_enc_issues/combined_files/\"\n",
    "class_list_file = \"/work-ceph/aprimpel/WDC_Extraction_2020/schemaOrgclasses.txt\"\n",
    "class_list_file_pd = pd.read_csv(class_list_file, sep='\\t', names=['type','filename'])\n",
    "all_subsets_names = class_list_file_pd.filename.values"
   ]
  },
  {
   "cell_type": "code",
   "execution_count": 2,
   "metadata": {},
   "outputs": [],
   "source": [
    "def combineSubset(subset):\n",
    "    filenames = [f for f in listdir(input_path+subset) if isfile(join(input_path+subset, f))]\n",
    "    with open(combined_path+subset+\".gz\", 'wb') as wfp:\n",
    "        for fn in filenames:\n",
    "            with open(input_path+subset+\"/\"+fn, 'rb') as rfp:\n",
    "                shutil.copyfileobj(rfp, wfp)"
   ]
  },
  {
   "cell_type": "code",
   "execution_count": 3,
   "metadata": {},
   "outputs": [
    {
     "name": "stderr",
     "output_type": "stream",
     "text": [
      "100%|██████████| 44/44 [5:07:14<00:00, 418.96s/it]   \n"
     ]
    }
   ],
   "source": [
    "pool = Pool(20)\n",
    "for result in tqdm(pool.imap(func=combineSubset, iterable=all_subsets_names), total=len(all_subsets_names)):\n",
    "    pass"
   ]
  }
 ],
 "metadata": {
  "kernelspec": {
   "display_name": "Python 3",
   "language": "python",
   "name": "python3"
  },
  "language_info": {
   "codemirror_mode": {
    "name": "ipython",
    "version": 3
   },
   "file_extension": ".py",
   "mimetype": "text/x-python",
   "name": "python",
   "nbconvert_exporter": "python",
   "pygments_lexer": "ipython3",
   "version": "3.7.1"
  }
 },
 "nbformat": 4,
 "nbformat_minor": 4
}
