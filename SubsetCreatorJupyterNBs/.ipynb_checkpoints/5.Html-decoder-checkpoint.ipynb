{
 "cells": [
  {
   "cell_type": "markdown",
   "metadata": {},
   "source": [
    "# Decodes html encodings\n"
   ]
  },
  {
   "cell_type": "code",
   "execution_count": 8,
   "metadata": {},
   "outputs": [],
   "source": [
    "import html\n",
    "import gzip\n",
    "from os import listdir\n",
    "from os.path import isfile, join\n",
    "from multiprocessing import Pool, Process, Manager\n",
    "import os\n",
    "from tqdm import tqdm\n",
    "\n",
    "input_path = \"/work-ceph/aprimpel/WDC_Extraction_2020/6_c_schema_microdata_full_no_enc_issues/combined_files_html_unescape/test/\"\n",
    "output_path = \"/work-ceph/aprimpel/WDC_Extraction_2020/6_c_schema_microdata_full_no_enc_issues/combined_files_html_unescape/\"\n",
    "\n",
    "linestoappend = []\n",
    "def decodefile(subsetfile): \n",
    "    print(subsetfile)\n",
    "    with gzip.open(input_path+subsetfile,'rt') as f:\n",
    "        for line in f:\n",
    "            #unescaped_line = html.unescape(line)\n",
    "            #linestoappend.append(unescaped_line)\n",
    "            linestoappend.append(line)\n",
    "    \n",
    "    unescaped_file = gzip.open(output_path+subsetfile, 'a')\n",
    "    print(\"now append lines\")\n",
    "    for l in linestoappend:\n",
    "        unescaped_file.write(l.encode())\n",
    "    unescaped_file.close()      "
   ]
  },
  {
   "cell_type": "code",
   "execution_count": 5,
   "metadata": {},
   "outputs": [
    {
     "name": "stdout",
     "output_type": "stream",
     "text": [
      "schema_RiverBodyOfWater.gz\n",
      "now append lines\n"
     ]
    }
   ],
   "source": [
    "decodefile(\"schema_RiverBodyOfWater.gz\")"
   ]
  },
  {
   "cell_type": "code",
   "execution_count": 9,
   "metadata": {},
   "outputs": [
    {
     "name": "stderr",
     "output_type": "stream",
     "text": [
      "\n",
      "  0%|          | 0/1 [00:00<?, ?it/s]\u001b[A"
     ]
    },
    {
     "name": "stdout",
     "output_type": "stream",
     "text": [
      "Rent Septien (2011) on DVD and Blu-ray - DVD Netflix.nq.gz\n",
      "now append lines\n"
     ]
    },
    {
     "name": "stderr",
     "output_type": "stream",
     "text": [
      "\n",
      "100%|██████████| 1/1 [00:00<00:00,  1.82it/s]\u001b[A\n"
     ]
    }
   ],
   "source": [
    "files_ = [f for f in listdir(input_path) if isfile(join(input_path, f))]\n",
    "\n",
    "pool = Pool(1)\n",
    "for result in tqdm(pool.imap(func=decodefile, iterable=files_), total=len(files_)):\n",
    "    pass\n",
    "      \n"
   ]
  }
 ],
 "metadata": {
  "kernelspec": {
   "display_name": "Python 3",
   "language": "python",
   "name": "python3"
  },
  "language_info": {
   "codemirror_mode": {
    "name": "ipython",
    "version": 3
   },
   "file_extension": ".py",
   "mimetype": "text/x-python",
   "name": "python",
   "nbconvert_exporter": "python",
   "pygments_lexer": "ipython3",
   "version": "3.7.1"
  }
 },
 "nbformat": 4,
 "nbformat_minor": 4
}
