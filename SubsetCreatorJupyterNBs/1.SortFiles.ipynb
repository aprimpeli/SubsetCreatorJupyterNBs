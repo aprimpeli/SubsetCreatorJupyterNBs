{
 "cells": [
  {
   "cell_type": "markdown",
   "metadata": {},
   "source": [
    "# Sorts files by url+nodeid"
   ]
  },
  {
   "cell_type": "code",
   "execution_count": 2,
   "metadata": {},
   "outputs": [],
   "source": [
    "import re\n",
    "import gzip\n",
    "from os import listdir\n",
    "from os.path import isfile, join\n",
    "from multiprocessing import Pool, Process, Manager\n",
    "from tqdm import tqdm\n",
    "input_path = \"/work-ceph/aprimpel/WDC_Extraction_2020/2_retrievedata_distvocabs/html-microdata/\"\n",
    "files_to_sort = [f for f in listdir(input_path) if isfile(join(input_path, f))]\n",
    "sorted_path = \"/work-ceph/aprimpel/WDC_Extraction_2020/6_sorted_quads/microdata/\"\n",
    "    \n",
    "def filterSort(filepath):\n",
    "    def getlinekey(elem):\n",
    "        return elem.split()[-2]+elem.split()[0]\n",
    "        \n",
    "    file_ = gzip.open(input_path+filepath)\n",
    "\n",
    "    sorted_lines = sorted(file_.readlines(), key=getlinekey)\n",
    "\n",
    "    \n",
    "    sorted_file = gzip.open(sorted_path+filepath, 'wb')\n",
    "    \n",
    "    sorted_file.writelines(sorted_lines)\n",
    "\n",
    "    sorted_file.close()\n"
   ]
  },
  {
   "cell_type": "code",
   "execution_count": 3,
   "metadata": {},
   "outputs": [
    {
     "name": "stderr",
     "output_type": "stream",
     "text": [
      "100%|██████████| 8480/8480 [10:40:12<00:00,  4.53s/it]  \n"
     ]
    }
   ],
   "source": [
    "pool = Pool(30)\n",
    "for _ in tqdm(pool.imap(func=filterSort, iterable=files_to_sort), total=len(files_to_sort)):\n",
    "    pass"
   ]
  }
 ],
 "metadata": {
  "kernelspec": {
   "display_name": "Python 3",
   "language": "python",
   "name": "python3"
  },
  "language_info": {
   "codemirror_mode": {
    "name": "ipython",
    "version": 3
   },
   "file_extension": ".py",
   "mimetype": "text/x-python",
   "name": "python",
   "nbconvert_exporter": "python",
   "pygments_lexer": "ipython3",
   "version": "3.7.1"
  }
 },
 "nbformat": 4,
 "nbformat_minor": 4
}
