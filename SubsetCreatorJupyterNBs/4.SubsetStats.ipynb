{
 "cells": [
  {
   "cell_type": "markdown",
   "metadata": {},
   "source": [
    "# calculates and outputs in html the subset related stats required for the WDC subset page\n",
    "e.g. http://webdatacommons.org/structureddata/2020-12/stats/schema_org_subsets.html"
   ]
  },
  {
   "cell_type": "code",
   "execution_count": null,
   "metadata": {},
   "outputs": [],
   "source": [
    "import re\n",
    "import gzip\n",
    "from os import listdir\n",
    "from os.path import isfile, join\n",
    "from multiprocessing import Pool, Process, Manager\n",
    "from tqdm import tqdm\n",
    "import tldextract\n",
    "import os\n",
    "\n",
    "input_path = \"/work-ceph/aprimpel/WDC_Extraction_2020/7_c_schema_json_full_no_enc_issues/combined_files/\"\n",
    "\n",
    "def getstatsofsubset(subsetfile):\n",
    "    \n",
    "    quadcounter = 0\n",
    "    distinct_urls = set()\n",
    "    distinct_domains = set()\n",
    "    schema_dict = dict()\n",
    "    size = os.path.getsize(input_path+subsetfile)/(1024*1024)\n",
    "    with gzip.open(input_path+subsetfile,'rt') as f:\n",
    "        for line in f:\n",
    "            quadcounter +=1\n",
    "            #line = line_.decode('utf8')\n",
    "            \n",
    "            if (\"<http://www.w3.org/1999/02/22-rdf-syntax-ns#type>\" in line):\n",
    "\n",
    "                schema_type = line.split()[-3][1:-1]\n",
    "                if(schema_type not in schema_dict):\n",
    "                    schema_dict[schema_type]=0\n",
    "                \n",
    "                schema_dict[schema_type] = schema_dict[schema_type]+1\n",
    "                url = line.split()[-2][1:-1]\n",
    "                distinct_urls.add(url)\n",
    "                domain_extract  = tldextract.extract(url)\n",
    "                domain = domain_extract.domain+'.'+domain_extract.suffix\n",
    "                distinct_domains.add(domain)\n",
    "    return(quadcounter, len(distinct_urls), len(distinct_domains), schema_dict, size, subsetfile)       "
   ]
  },
  {
   "cell_type": "code",
   "execution_count": null,
   "metadata": {},
   "outputs": [],
   "source": [
    "files_ = [f for f in listdir(input_path) if isfile(join(input_path, f))]\n",
    "\n",
    "html_stats = \"\"\n",
    "pool = Pool(20)\n",
    "for result in tqdm(pool.imap(func=getstatsofsubset, iterable=files_), total=len(files_)):\n",
    "    filename = result[5]\n",
    "    schema_subset = filename.replace(\"schema_\",\"\").replace(\".gz\",\"\")\n",
    "    top_related_classes= \"</td><td>\"\n",
    "\n",
    "    for k in sorted(result[3], key=result[3].get, reverse=True)[:5]: \n",
    "        top_related_classes= top_related_classes+k+\" (\"+str(f\"{result[3][k]:,}\")+\")\"+\"</br>\"\n",
    "\n",
    "    #print(filename)\n",
    "    #print(top_related_classes)\n",
    "    #print(\"---------\")\n",
    "    html_stats_file = (\"<tr><th><a href=\\\"http://schema.org/\"+schema_subset+\"\\\">\"+schema_subset+\n",
    "          \"</a></th><td> Quads: \"+str(f\"{result[0]:,}\")+\"</br> URLs: \"+str(f\"{result[1]:,}\")+\n",
    "          \"</br> Hosts: \"+str(f\"{result[2]:,}\")+\"</br>\"+top_related_classes+\"</td><td>\"+str(round(result[4], 2))+\" MB </td><td><a href=\\\"http://data.dws.informatik.uni-mannheim.de/structureddata/2020-12/quads/classspecific/md/\"+filename+\"\\\">\"+filename+\"</a> (<a href=\\\"http://data.dws.informatik.uni-mannheim.de/structureddata/2020-12/quads/classspecific/md/\"+filename.replace(\".gz\",\".txt\")+\"\\\">sample</a>)</td></tr>\\n\")\n",
    "    \n",
    "    print(html_stats_file)\n",
    "    html_stats+=html_stats_file\n",
    "      \n"
   ]
  }
 ],
 "metadata": {
  "kernelspec": {
   "display_name": "Python 3",
   "language": "python",
   "name": "python3"
  },
  "language_info": {
   "codemirror_mode": {
    "name": "ipython",
    "version": 3
   },
   "file_extension": ".py",
   "mimetype": "text/x-python",
   "name": "python",
   "nbconvert_exporter": "python",
   "pygments_lexer": "ipython3",
   "version": "3.7.1"
  }
 },
 "nbformat": 4,
 "nbformat_minor": 4
}
